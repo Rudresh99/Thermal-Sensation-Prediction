{
  "nbformat": 4,
  "nbformat_minor": 0,
  "metadata": {
    "colab": {
      "name": "Thermal Sensation Prediction.ipynb",
      "provenance": [],
      "collapsed_sections": [],
      "authorship_tag": "ABX9TyMeo2baVeu8mDbwsuzQC6ZF",
      "include_colab_link": true
    },
    "kernelspec": {
      "name": "python3",
      "display_name": "Python 3"
    }
  },
  "cells": [
    {
      "cell_type": "markdown",
      "metadata": {
        "id": "view-in-github",
        "colab_type": "text"
      },
      "source": [
        "<a href=\"https://colab.research.google.com/github/Rudresh99/Thermal-Sensation-Prediction/blob/master/Thermal_Sensation_Prediction.ipynb\" target=\"_parent\"><img src=\"https://colab.research.google.com/assets/colab-badge.svg\" alt=\"Open In Colab\"/></a>"
      ]
    },
    {
      "cell_type": "markdown",
      "metadata": {
        "id": "cR88QcLVzPn3",
        "colab_type": "text"
      },
      "source": [
        "# Thermal Sensation Acceptability Prediction using Keras\n",
        "\n",
        "![alt text](https://www.researchgate.net/profile/Mamdooh_Alwetaishi/publication/317109298/figure/fig8/AS:668532467585042@1536401969885/The-most-important-environmental-factors-affecting-thermal-comfort.jpg)\n",
        "\n",
        "Thermal comfort is the condition of mind that expresses satisfaction with the thermal environment and is assessed by subjective evaluation. The human body can be viewed as a heat engine where food is the input energy. The human body will release excess heat into the environment, so the body can continue to operate.\n",
        "\n",
        "# # Objective :-\n",
        "\n",
        "\n",
        "# Predicting that wheather a human being is accepting the thermal sesation acceptability or not \n",
        "\n"
      ]
    },
    {
      "cell_type": "markdown",
      "metadata": {
        "id": "2HiGE2MetrfI",
        "colab_type": "text"
      },
      "source": [
        "# 1). Mount Google Drive in the Notebook"
      ]
    },
    {
      "cell_type": "code",
      "metadata": {
        "id": "lcQybogZx4JV",
        "colab_type": "code",
        "colab": {
          "base_uri": "https://localhost:8080/",
          "height": 34
        },
        "outputId": "35585a2b-7744-453e-d05d-e51c01f17906"
      },
      "source": [
        "from google.colab import drive\n",
        "drive.mount('/content/drive')"
      ],
      "execution_count": 1,
      "outputs": [
        {
          "output_type": "stream",
          "text": [
            "Drive already mounted at /content/drive; to attempt to forcibly remount, call drive.mount(\"/content/drive\", force_remount=True).\n"
          ],
          "name": "stdout"
        }
      ]
    },
    {
      "cell_type": "markdown",
      "metadata": {
        "id": "ikSPG_yPuOOn",
        "colab_type": "text"
      },
      "source": [
        "# 2). Importing all the Necessary Library for Model"
      ]
    },
    {
      "cell_type": "code",
      "metadata": {
        "id": "bl9bbw7SylrH",
        "colab_type": "code",
        "colab": {
          "base_uri": "https://localhost:8080/",
          "height": 71
        },
        "outputId": "b3446f4e-f72a-40f5-a73a-5bc2903c19ad"
      },
      "source": [
        "import pandas as pd\n",
        "import numpy as np\n",
        "from sklearn.preprocessing import LabelEncoder\n",
        "from sklearn.model_selection import train_test_split\n",
        "from sklearn import metrics\n",
        "import matplotlib.pyplot as plt\n",
        "import seaborn as sns\n",
        "from mpl_toolkits.basemap import Basemap"
      ],
      "execution_count": 2,
      "outputs": [
        {
          "output_type": "stream",
          "text": [
            "/usr/local/lib/python3.6/dist-packages/statsmodels/tools/_testing.py:19: FutureWarning: pandas.util.testing is deprecated. Use the functions in the public API at pandas.testing instead.\n",
            "  import pandas.util.testing as tm\n"
          ],
          "name": "stderr"
        }
      ]
    },
    {
      "cell_type": "markdown",
      "metadata": {
        "id": "WSv1z3wMuur9",
        "colab_type": "text"
      },
      "source": [
        "# 3). Loading Dataset from Google Drive to Notebook"
      ]
    },
    {
      "cell_type": "code",
      "metadata": {
        "id": "LHLpDO8vy4hY",
        "colab_type": "code",
        "colab": {
          "base_uri": "https://localhost:8080/",
          "height": 697
        },
        "outputId": "e112976c-8b90-41cd-8790-9b36d7eba786"
      },
      "source": [
        "data = pd.read_csv('/content/drive/My Drive/Dataset/thermal data.csv',index_col='Data contributor')\n",
        "data.head()"
      ],
      "execution_count": 3,
      "outputs": [
        {
          "output_type": "stream",
          "text": [
            "/usr/local/lib/python3.6/dist-packages/IPython/core/interactiveshell.py:2718: DtypeWarning: Columns (10,11,13,18,19,34,50) have mixed types.Specify dtype option on import or set low_memory=False.\n",
            "  interactivity=interactivity, compiler=compiler, result=result)\n"
          ],
          "name": "stderr"
        },
        {
          "output_type": "execute_result",
          "data": {
            "text/html": [
              "<div>\n",
              "<style scoped>\n",
              "    .dataframe tbody tr th:only-of-type {\n",
              "        vertical-align: middle;\n",
              "    }\n",
              "\n",
              "    .dataframe tbody tr th {\n",
              "        vertical-align: top;\n",
              "    }\n",
              "\n",
              "    .dataframe thead th {\n",
              "        text-align: right;\n",
              "    }\n",
              "</style>\n",
              "<table border=\"1\" class=\"dataframe\">\n",
              "  <thead>\n",
              "    <tr style=\"text-align: right;\">\n",
              "      <th></th>\n",
              "      <th>Publication (Citation)</th>\n",
              "      <th>Year</th>\n",
              "      <th>Season</th>\n",
              "      <th>Koppen climate classification</th>\n",
              "      <th>Climate</th>\n",
              "      <th>City</th>\n",
              "      <th>Country</th>\n",
              "      <th>Building type</th>\n",
              "      <th>Cooling startegy_building level</th>\n",
              "      <th>Cooling startegy_operation mode for MM buildings</th>\n",
              "      <th>Heating strategy_building level</th>\n",
              "      <th>Age</th>\n",
              "      <th>Sex</th>\n",
              "      <th>Thermal sensation</th>\n",
              "      <th>Thermal sensation acceptability</th>\n",
              "      <th>Thermal preference</th>\n",
              "      <th>Air movement acceptability</th>\n",
              "      <th>Air movement preference</th>\n",
              "      <th>Thermal comfort</th>\n",
              "      <th>PMV</th>\n",
              "      <th>PPD</th>\n",
              "      <th>SET</th>\n",
              "      <th>Clo</th>\n",
              "      <th>Met</th>\n",
              "      <th>activity_10</th>\n",
              "      <th>activity_20</th>\n",
              "      <th>activity_30</th>\n",
              "      <th>activity_60</th>\n",
              "      <th>Air temperature (C)</th>\n",
              "      <th>Air temperature (F)</th>\n",
              "      <th>Ta_h (C)</th>\n",
              "      <th>Ta_h (F)</th>\n",
              "      <th>Ta_m (C)</th>\n",
              "      <th>Ta_m (F)</th>\n",
              "      <th>Ta_l (C)</th>\n",
              "      <th>Ta_l (F)</th>\n",
              "      <th>Operative temperature (C)</th>\n",
              "      <th>Operative temperature (F)</th>\n",
              "      <th>Radiant temperature (C)</th>\n",
              "      <th>Radiant temperature (F)</th>\n",
              "      <th>Globe temperature (C)</th>\n",
              "      <th>Globe temperature (F)</th>\n",
              "      <th>Tg_h (C)</th>\n",
              "      <th>Tg_h (F)</th>\n",
              "      <th>Tg_m (C)</th>\n",
              "      <th>Tg_m (F)</th>\n",
              "      <th>Tg_l (C)</th>\n",
              "      <th>Tg_l (F)</th>\n",
              "      <th>Relative humidity (%)</th>\n",
              "      <th>Humidity preference</th>\n",
              "      <th>Humidity sensation</th>\n",
              "      <th>Air velocity (m/s)</th>\n",
              "      <th>Air velocity (fpm)</th>\n",
              "      <th>Velocity_h (m/s)</th>\n",
              "      <th>Velocity_h (fpm)</th>\n",
              "      <th>Velocity_m (m/s)</th>\n",
              "      <th>Velocity_m (fpm)</th>\n",
              "      <th>Velocity_l (m/s)</th>\n",
              "      <th>Velocity_l (fpm)</th>\n",
              "      <th>Subject«s height (cm)</th>\n",
              "      <th>Subject«s weight (kg)</th>\n",
              "      <th>Blind (curtain)</th>\n",
              "      <th>Fan</th>\n",
              "      <th>Window</th>\n",
              "      <th>Door</th>\n",
              "      <th>Heater</th>\n",
              "      <th>Outdoor monthly air temperature (C)</th>\n",
              "      <th>Outdoor monthly air temperature (F)</th>\n",
              "      <th>Database</th>\n",
              "    </tr>\n",
              "    <tr>\n",
              "      <th>Data contributor</th>\n",
              "      <th></th>\n",
              "      <th></th>\n",
              "      <th></th>\n",
              "      <th></th>\n",
              "      <th></th>\n",
              "      <th></th>\n",
              "      <th></th>\n",
              "      <th></th>\n",
              "      <th></th>\n",
              "      <th></th>\n",
              "      <th></th>\n",
              "      <th></th>\n",
              "      <th></th>\n",
              "      <th></th>\n",
              "      <th></th>\n",
              "      <th></th>\n",
              "      <th></th>\n",
              "      <th></th>\n",
              "      <th></th>\n",
              "      <th></th>\n",
              "      <th></th>\n",
              "      <th></th>\n",
              "      <th></th>\n",
              "      <th></th>\n",
              "      <th></th>\n",
              "      <th></th>\n",
              "      <th></th>\n",
              "      <th></th>\n",
              "      <th></th>\n",
              "      <th></th>\n",
              "      <th></th>\n",
              "      <th></th>\n",
              "      <th></th>\n",
              "      <th></th>\n",
              "      <th></th>\n",
              "      <th></th>\n",
              "      <th></th>\n",
              "      <th></th>\n",
              "      <th></th>\n",
              "      <th></th>\n",
              "      <th></th>\n",
              "      <th></th>\n",
              "      <th></th>\n",
              "      <th></th>\n",
              "      <th></th>\n",
              "      <th></th>\n",
              "      <th></th>\n",
              "      <th></th>\n",
              "      <th></th>\n",
              "      <th></th>\n",
              "      <th></th>\n",
              "      <th></th>\n",
              "      <th></th>\n",
              "      <th></th>\n",
              "      <th></th>\n",
              "      <th></th>\n",
              "      <th></th>\n",
              "      <th></th>\n",
              "      <th></th>\n",
              "      <th></th>\n",
              "      <th></th>\n",
              "      <th></th>\n",
              "      <th></th>\n",
              "      <th></th>\n",
              "      <th></th>\n",
              "      <th></th>\n",
              "      <th></th>\n",
              "      <th></th>\n",
              "      <th></th>\n",
              "    </tr>\n",
              "  </thead>\n",
              "  <tbody>\n",
              "    <tr>\n",
              "      <th>Kwok Alison</th>\n",
              "      <td>Kwok, Alison G., and Chungyoon Chun. \"Thermal ...</td>\n",
              "      <td>2000.0</td>\n",
              "      <td>Summer</td>\n",
              "      <td>Cfa</td>\n",
              "      <td>Humid subtropical</td>\n",
              "      <td>Tokyo</td>\n",
              "      <td>Japan</td>\n",
              "      <td>Classroom</td>\n",
              "      <td>Air Conditioned</td>\n",
              "      <td>NaN</td>\n",
              "      <td>NaN</td>\n",
              "      <td>15.0</td>\n",
              "      <td>Female</td>\n",
              "      <td>-0.5</td>\n",
              "      <td>1.0</td>\n",
              "      <td>warmer</td>\n",
              "      <td>1.0</td>\n",
              "      <td>no change</td>\n",
              "      <td>5</td>\n",
              "      <td>NaN</td>\n",
              "      <td>NaN</td>\n",
              "      <td>NaN</td>\n",
              "      <td>0.25</td>\n",
              "      <td>NaN</td>\n",
              "      <td>NaN</td>\n",
              "      <td>NaN</td>\n",
              "      <td>NaN</td>\n",
              "      <td>NaN</td>\n",
              "      <td>24.2</td>\n",
              "      <td>75.6</td>\n",
              "      <td>24.2</td>\n",
              "      <td>75.6</td>\n",
              "      <td>NaN</td>\n",
              "      <td>NaN</td>\n",
              "      <td>NaN</td>\n",
              "      <td>NaN</td>\n",
              "      <td>NaN</td>\n",
              "      <td>NaN</td>\n",
              "      <td>NaN</td>\n",
              "      <td>NaN</td>\n",
              "      <td>24.0</td>\n",
              "      <td>75.2</td>\n",
              "      <td>24.0</td>\n",
              "      <td>75.2</td>\n",
              "      <td>NaN</td>\n",
              "      <td>NaN</td>\n",
              "      <td>NaN</td>\n",
              "      <td>NaN</td>\n",
              "      <td>50.2</td>\n",
              "      <td>NaN</td>\n",
              "      <td>NaN</td>\n",
              "      <td>0.06</td>\n",
              "      <td>11.81</td>\n",
              "      <td>NaN</td>\n",
              "      <td>NaN</td>\n",
              "      <td>NaN</td>\n",
              "      <td>NaN</td>\n",
              "      <td>NaN</td>\n",
              "      <td>NaN</td>\n",
              "      <td>162.0</td>\n",
              "      <td>NaN</td>\n",
              "      <td>NaN</td>\n",
              "      <td>NaN</td>\n",
              "      <td>NaN</td>\n",
              "      <td>NaN</td>\n",
              "      <td>NaN</td>\n",
              "      <td>25.0</td>\n",
              "      <td>77.0</td>\n",
              "      <td>Database 2</td>\n",
              "    </tr>\n",
              "    <tr>\n",
              "      <th>Kwok Alison</th>\n",
              "      <td>Kwok, Alison G., and Chungyoon Chun. \"Thermal ...</td>\n",
              "      <td>2000.0</td>\n",
              "      <td>Summer</td>\n",
              "      <td>Cfa</td>\n",
              "      <td>Humid subtropical</td>\n",
              "      <td>Tokyo</td>\n",
              "      <td>Japan</td>\n",
              "      <td>Classroom</td>\n",
              "      <td>Air Conditioned</td>\n",
              "      <td>NaN</td>\n",
              "      <td>NaN</td>\n",
              "      <td>15.0</td>\n",
              "      <td>Female</td>\n",
              "      <td>-2.1</td>\n",
              "      <td>1.0</td>\n",
              "      <td>no change</td>\n",
              "      <td>1.0</td>\n",
              "      <td>no change</td>\n",
              "      <td>5</td>\n",
              "      <td>NaN</td>\n",
              "      <td>NaN</td>\n",
              "      <td>NaN</td>\n",
              "      <td>0.25</td>\n",
              "      <td>NaN</td>\n",
              "      <td>NaN</td>\n",
              "      <td>NaN</td>\n",
              "      <td>NaN</td>\n",
              "      <td>NaN</td>\n",
              "      <td>24.2</td>\n",
              "      <td>75.6</td>\n",
              "      <td>24.2</td>\n",
              "      <td>75.6</td>\n",
              "      <td>NaN</td>\n",
              "      <td>NaN</td>\n",
              "      <td>NaN</td>\n",
              "      <td>NaN</td>\n",
              "      <td>NaN</td>\n",
              "      <td>NaN</td>\n",
              "      <td>NaN</td>\n",
              "      <td>NaN</td>\n",
              "      <td>24.0</td>\n",
              "      <td>75.2</td>\n",
              "      <td>24.0</td>\n",
              "      <td>75.2</td>\n",
              "      <td>NaN</td>\n",
              "      <td>NaN</td>\n",
              "      <td>NaN</td>\n",
              "      <td>NaN</td>\n",
              "      <td>50.2</td>\n",
              "      <td>NaN</td>\n",
              "      <td>NaN</td>\n",
              "      <td>0.06</td>\n",
              "      <td>11.81</td>\n",
              "      <td>NaN</td>\n",
              "      <td>NaN</td>\n",
              "      <td>NaN</td>\n",
              "      <td>NaN</td>\n",
              "      <td>NaN</td>\n",
              "      <td>NaN</td>\n",
              "      <td>154.0</td>\n",
              "      <td>NaN</td>\n",
              "      <td>NaN</td>\n",
              "      <td>NaN</td>\n",
              "      <td>NaN</td>\n",
              "      <td>NaN</td>\n",
              "      <td>NaN</td>\n",
              "      <td>25.0</td>\n",
              "      <td>77.0</td>\n",
              "      <td>Database 2</td>\n",
              "    </tr>\n",
              "    <tr>\n",
              "      <th>Kwok Alison</th>\n",
              "      <td>Kwok, Alison G., and Chungyoon Chun. \"Thermal ...</td>\n",
              "      <td>2000.0</td>\n",
              "      <td>Summer</td>\n",
              "      <td>Cfa</td>\n",
              "      <td>Humid subtropical</td>\n",
              "      <td>Tokyo</td>\n",
              "      <td>Japan</td>\n",
              "      <td>Classroom</td>\n",
              "      <td>Air Conditioned</td>\n",
              "      <td>NaN</td>\n",
              "      <td>NaN</td>\n",
              "      <td>15.0</td>\n",
              "      <td>Male</td>\n",
              "      <td>0.5</td>\n",
              "      <td>1.0</td>\n",
              "      <td>no change</td>\n",
              "      <td>1.0</td>\n",
              "      <td>more</td>\n",
              "      <td>6</td>\n",
              "      <td>NaN</td>\n",
              "      <td>NaN</td>\n",
              "      <td>NaN</td>\n",
              "      <td>0.27</td>\n",
              "      <td>NaN</td>\n",
              "      <td>NaN</td>\n",
              "      <td>NaN</td>\n",
              "      <td>NaN</td>\n",
              "      <td>NaN</td>\n",
              "      <td>24.2</td>\n",
              "      <td>75.6</td>\n",
              "      <td>24.2</td>\n",
              "      <td>75.6</td>\n",
              "      <td>NaN</td>\n",
              "      <td>NaN</td>\n",
              "      <td>NaN</td>\n",
              "      <td>NaN</td>\n",
              "      <td>NaN</td>\n",
              "      <td>NaN</td>\n",
              "      <td>NaN</td>\n",
              "      <td>NaN</td>\n",
              "      <td>24.0</td>\n",
              "      <td>75.2</td>\n",
              "      <td>24.0</td>\n",
              "      <td>75.2</td>\n",
              "      <td>NaN</td>\n",
              "      <td>NaN</td>\n",
              "      <td>NaN</td>\n",
              "      <td>NaN</td>\n",
              "      <td>50.2</td>\n",
              "      <td>NaN</td>\n",
              "      <td>NaN</td>\n",
              "      <td>0.06</td>\n",
              "      <td>11.81</td>\n",
              "      <td>NaN</td>\n",
              "      <td>NaN</td>\n",
              "      <td>NaN</td>\n",
              "      <td>NaN</td>\n",
              "      <td>NaN</td>\n",
              "      <td>NaN</td>\n",
              "      <td>173.0</td>\n",
              "      <td>NaN</td>\n",
              "      <td>NaN</td>\n",
              "      <td>NaN</td>\n",
              "      <td>NaN</td>\n",
              "      <td>NaN</td>\n",
              "      <td>NaN</td>\n",
              "      <td>25.0</td>\n",
              "      <td>77.0</td>\n",
              "      <td>Database 2</td>\n",
              "    </tr>\n",
              "    <tr>\n",
              "      <th>Kwok Alison</th>\n",
              "      <td>Kwok, Alison G., and Chungyoon Chun. \"Thermal ...</td>\n",
              "      <td>2000.0</td>\n",
              "      <td>Summer</td>\n",
              "      <td>Cfa</td>\n",
              "      <td>Humid subtropical</td>\n",
              "      <td>Tokyo</td>\n",
              "      <td>Japan</td>\n",
              "      <td>Classroom</td>\n",
              "      <td>Air Conditioned</td>\n",
              "      <td>NaN</td>\n",
              "      <td>NaN</td>\n",
              "      <td>14.0</td>\n",
              "      <td>Female</td>\n",
              "      <td>-2.5</td>\n",
              "      <td>0.0</td>\n",
              "      <td>no change</td>\n",
              "      <td>1.0</td>\n",
              "      <td>less</td>\n",
              "      <td>4</td>\n",
              "      <td>NaN</td>\n",
              "      <td>NaN</td>\n",
              "      <td>NaN</td>\n",
              "      <td>0.23</td>\n",
              "      <td>NaN</td>\n",
              "      <td>NaN</td>\n",
              "      <td>NaN</td>\n",
              "      <td>NaN</td>\n",
              "      <td>NaN</td>\n",
              "      <td>24.2</td>\n",
              "      <td>75.6</td>\n",
              "      <td>24.2</td>\n",
              "      <td>75.6</td>\n",
              "      <td>NaN</td>\n",
              "      <td>NaN</td>\n",
              "      <td>NaN</td>\n",
              "      <td>NaN</td>\n",
              "      <td>NaN</td>\n",
              "      <td>NaN</td>\n",
              "      <td>NaN</td>\n",
              "      <td>NaN</td>\n",
              "      <td>24.0</td>\n",
              "      <td>75.2</td>\n",
              "      <td>24.0</td>\n",
              "      <td>75.2</td>\n",
              "      <td>NaN</td>\n",
              "      <td>NaN</td>\n",
              "      <td>NaN</td>\n",
              "      <td>NaN</td>\n",
              "      <td>50.2</td>\n",
              "      <td>NaN</td>\n",
              "      <td>NaN</td>\n",
              "      <td>0.06</td>\n",
              "      <td>11.81</td>\n",
              "      <td>NaN</td>\n",
              "      <td>NaN</td>\n",
              "      <td>NaN</td>\n",
              "      <td>NaN</td>\n",
              "      <td>NaN</td>\n",
              "      <td>NaN</td>\n",
              "      <td>167.0</td>\n",
              "      <td>NaN</td>\n",
              "      <td>NaN</td>\n",
              "      <td>NaN</td>\n",
              "      <td>NaN</td>\n",
              "      <td>NaN</td>\n",
              "      <td>NaN</td>\n",
              "      <td>25.0</td>\n",
              "      <td>77.0</td>\n",
              "      <td>Database 2</td>\n",
              "    </tr>\n",
              "    <tr>\n",
              "      <th>Kwok Alison</th>\n",
              "      <td>Kwok, Alison G., and Chungyoon Chun. \"Thermal ...</td>\n",
              "      <td>2000.0</td>\n",
              "      <td>Summer</td>\n",
              "      <td>Cfa</td>\n",
              "      <td>Humid subtropical</td>\n",
              "      <td>Tokyo</td>\n",
              "      <td>Japan</td>\n",
              "      <td>Classroom</td>\n",
              "      <td>Air Conditioned</td>\n",
              "      <td>NaN</td>\n",
              "      <td>NaN</td>\n",
              "      <td>15.0</td>\n",
              "      <td>Male</td>\n",
              "      <td>-0.5</td>\n",
              "      <td>1.0</td>\n",
              "      <td>no change</td>\n",
              "      <td>1.0</td>\n",
              "      <td>no change</td>\n",
              "      <td>6</td>\n",
              "      <td>NaN</td>\n",
              "      <td>NaN</td>\n",
              "      <td>NaN</td>\n",
              "      <td>0.34</td>\n",
              "      <td>NaN</td>\n",
              "      <td>NaN</td>\n",
              "      <td>NaN</td>\n",
              "      <td>NaN</td>\n",
              "      <td>NaN</td>\n",
              "      <td>24.2</td>\n",
              "      <td>75.6</td>\n",
              "      <td>24.2</td>\n",
              "      <td>75.6</td>\n",
              "      <td>NaN</td>\n",
              "      <td>NaN</td>\n",
              "      <td>NaN</td>\n",
              "      <td>NaN</td>\n",
              "      <td>NaN</td>\n",
              "      <td>NaN</td>\n",
              "      <td>NaN</td>\n",
              "      <td>NaN</td>\n",
              "      <td>24.0</td>\n",
              "      <td>75.2</td>\n",
              "      <td>24.0</td>\n",
              "      <td>75.2</td>\n",
              "      <td>NaN</td>\n",
              "      <td>NaN</td>\n",
              "      <td>NaN</td>\n",
              "      <td>NaN</td>\n",
              "      <td>50.2</td>\n",
              "      <td>NaN</td>\n",
              "      <td>NaN</td>\n",
              "      <td>0.06</td>\n",
              "      <td>11.81</td>\n",
              "      <td>NaN</td>\n",
              "      <td>NaN</td>\n",
              "      <td>NaN</td>\n",
              "      <td>NaN</td>\n",
              "      <td>NaN</td>\n",
              "      <td>NaN</td>\n",
              "      <td>178.0</td>\n",
              "      <td>NaN</td>\n",
              "      <td>NaN</td>\n",
              "      <td>NaN</td>\n",
              "      <td>NaN</td>\n",
              "      <td>NaN</td>\n",
              "      <td>NaN</td>\n",
              "      <td>25.0</td>\n",
              "      <td>77.0</td>\n",
              "      <td>Database 2</td>\n",
              "    </tr>\n",
              "  </tbody>\n",
              "</table>\n",
              "</div>"
            ],
            "text/plain": [
              "                                             Publication (Citation)  ...    Database\n",
              "Data contributor                                                     ...            \n",
              "Kwok Alison       Kwok, Alison G., and Chungyoon Chun. \"Thermal ...  ...  Database 2\n",
              "Kwok Alison       Kwok, Alison G., and Chungyoon Chun. \"Thermal ...  ...  Database 2\n",
              "Kwok Alison       Kwok, Alison G., and Chungyoon Chun. \"Thermal ...  ...  Database 2\n",
              "Kwok Alison       Kwok, Alison G., and Chungyoon Chun. \"Thermal ...  ...  Database 2\n",
              "Kwok Alison       Kwok, Alison G., and Chungyoon Chun. \"Thermal ...  ...  Database 2\n",
              "\n",
              "[5 rows x 69 columns]"
            ]
          },
          "metadata": {
            "tags": []
          },
          "execution_count": 3
        }
      ]
    },
    {
      "cell_type": "markdown",
      "metadata": {
        "id": "pi1foCK_vNuZ",
        "colab_type": "text"
      },
      "source": [
        "# 4). Data Pre-Processing of the Data for Modeling"
      ]
    },
    {
      "cell_type": "code",
      "metadata": {
        "id": "7pX9gb1c5oi7",
        "colab_type": "code",
        "colab": {
          "base_uri": "https://localhost:8080/",
          "height": 368
        },
        "outputId": "f2670274-6869-48c5-eec4-fa3244bf207e"
      },
      "source": [
        "data.describe()"
      ],
      "execution_count": 4,
      "outputs": [
        {
          "output_type": "execute_result",
          "data": {
            "text/html": [
              "<div>\n",
              "<style scoped>\n",
              "    .dataframe tbody tr th:only-of-type {\n",
              "        vertical-align: middle;\n",
              "    }\n",
              "\n",
              "    .dataframe tbody tr th {\n",
              "        vertical-align: top;\n",
              "    }\n",
              "\n",
              "    .dataframe thead th {\n",
              "        text-align: right;\n",
              "    }\n",
              "</style>\n",
              "<table border=\"1\" class=\"dataframe\">\n",
              "  <thead>\n",
              "    <tr style=\"text-align: right;\">\n",
              "      <th></th>\n",
              "      <th>Year</th>\n",
              "      <th>Age</th>\n",
              "      <th>Thermal sensation</th>\n",
              "      <th>Thermal sensation acceptability</th>\n",
              "      <th>Air movement acceptability</th>\n",
              "      <th>PMV</th>\n",
              "      <th>PPD</th>\n",
              "      <th>SET</th>\n",
              "      <th>Clo</th>\n",
              "      <th>Met</th>\n",
              "      <th>activity_10</th>\n",
              "      <th>activity_20</th>\n",
              "      <th>activity_30</th>\n",
              "      <th>activity_60</th>\n",
              "      <th>Air temperature (C)</th>\n",
              "      <th>Air temperature (F)</th>\n",
              "      <th>Ta_h (C)</th>\n",
              "      <th>Ta_h (F)</th>\n",
              "      <th>Ta_m (C)</th>\n",
              "      <th>Ta_l (C)</th>\n",
              "      <th>Ta_l (F)</th>\n",
              "      <th>Operative temperature (C)</th>\n",
              "      <th>Operative temperature (F)</th>\n",
              "      <th>Radiant temperature (C)</th>\n",
              "      <th>Radiant temperature (F)</th>\n",
              "      <th>Globe temperature (C)</th>\n",
              "      <th>Globe temperature (F)</th>\n",
              "      <th>Tg_h (C)</th>\n",
              "      <th>Tg_h (F)</th>\n",
              "      <th>Tg_m (C)</th>\n",
              "      <th>Tg_m (F)</th>\n",
              "      <th>Tg_l (C)</th>\n",
              "      <th>Tg_l (F)</th>\n",
              "      <th>Relative humidity (%)</th>\n",
              "      <th>Humidity sensation</th>\n",
              "      <th>Air velocity (m/s)</th>\n",
              "      <th>Air velocity (fpm)</th>\n",
              "      <th>Velocity_h (m/s)</th>\n",
              "      <th>Velocity_h (fpm)</th>\n",
              "      <th>Velocity_m (m/s)</th>\n",
              "      <th>Velocity_m (fpm)</th>\n",
              "      <th>Velocity_l (m/s)</th>\n",
              "      <th>Velocity_l (fpm)</th>\n",
              "      <th>Subject«s height (cm)</th>\n",
              "      <th>Subject«s weight (kg)</th>\n",
              "      <th>Blind (curtain)</th>\n",
              "      <th>Fan</th>\n",
              "      <th>Window</th>\n",
              "      <th>Door</th>\n",
              "      <th>Heater</th>\n",
              "      <th>Outdoor monthly air temperature (C)</th>\n",
              "      <th>Outdoor monthly air temperature (F)</th>\n",
              "    </tr>\n",
              "  </thead>\n",
              "  <tbody>\n",
              "    <tr>\n",
              "      <th>count</th>\n",
              "      <td>107335.000000</td>\n",
              "      <td>43579.000000</td>\n",
              "      <td>104454.000000</td>\n",
              "      <td>62444.000000</td>\n",
              "      <td>16347.000000</td>\n",
              "      <td>66734.000000</td>\n",
              "      <td>66734.000000</td>\n",
              "      <td>66518.000000</td>\n",
              "      <td>99663.000000</td>\n",
              "      <td>90419.000000</td>\n",
              "      <td>8810.000000</td>\n",
              "      <td>9699.000000</td>\n",
              "      <td>8754.000000</td>\n",
              "      <td>9597.000000</td>\n",
              "      <td>99911.000000</td>\n",
              "      <td>99911.000000</td>\n",
              "      <td>28024.000000</td>\n",
              "      <td>28024.000000</td>\n",
              "      <td>31148.000000</td>\n",
              "      <td>10448.000000</td>\n",
              "      <td>10448.000000</td>\n",
              "      <td>37963.000000</td>\n",
              "      <td>37963.000000</td>\n",
              "      <td>32473.000000</td>\n",
              "      <td>32472.000000</td>\n",
              "      <td>26004.000000</td>\n",
              "      <td>26004.000000</td>\n",
              "      <td>53005.000000</td>\n",
              "      <td>53005.000000</td>\n",
              "      <td>25886.000000</td>\n",
              "      <td>25886.000000</td>\n",
              "      <td>23248.000000</td>\n",
              "      <td>23248.000000</td>\n",
              "      <td>97762.000000</td>\n",
              "      <td>12540.000000</td>\n",
              "      <td>89892.000000</td>\n",
              "      <td>89881.000000</td>\n",
              "      <td>21979.000000</td>\n",
              "      <td>21979.000000</td>\n",
              "      <td>28320.000000</td>\n",
              "      <td>28320.000000</td>\n",
              "      <td>10252.000000</td>\n",
              "      <td>10252.000000</td>\n",
              "      <td>20353.000000</td>\n",
              "      <td>24662.000000</td>\n",
              "      <td>5735.000000</td>\n",
              "      <td>13186.000000</td>\n",
              "      <td>22079.000000</td>\n",
              "      <td>11130.000000</td>\n",
              "      <td>8338.000000</td>\n",
              "      <td>79338.000000</td>\n",
              "      <td>79336.000000</td>\n",
              "    </tr>\n",
              "    <tr>\n",
              "      <th>mean</th>\n",
              "      <td>2002.010695</td>\n",
              "      <td>32.560173</td>\n",
              "      <td>0.167892</td>\n",
              "      <td>0.775078</td>\n",
              "      <td>0.785771</td>\n",
              "      <td>0.136790</td>\n",
              "      <td>20.962094</td>\n",
              "      <td>25.769629</td>\n",
              "      <td>0.673669</td>\n",
              "      <td>1.206626</td>\n",
              "      <td>1.184229</td>\n",
              "      <td>1.257274</td>\n",
              "      <td>1.258977</td>\n",
              "      <td>1.319214</td>\n",
              "      <td>24.496358</td>\n",
              "      <td>76.090540</td>\n",
              "      <td>24.569258</td>\n",
              "      <td>76.223719</td>\n",
              "      <td>24.220964</td>\n",
              "      <td>23.450124</td>\n",
              "      <td>74.207647</td>\n",
              "      <td>24.504233</td>\n",
              "      <td>76.105627</td>\n",
              "      <td>24.602735</td>\n",
              "      <td>76.283592</td>\n",
              "      <td>24.621170</td>\n",
              "      <td>76.316978</td>\n",
              "      <td>24.796730</td>\n",
              "      <td>76.631297</td>\n",
              "      <td>24.375786</td>\n",
              "      <td>75.874689</td>\n",
              "      <td>22.970135</td>\n",
              "      <td>73.341419</td>\n",
              "      <td>47.548068</td>\n",
              "      <td>0.096491</td>\n",
              "      <td>0.175384</td>\n",
              "      <td>34.406833</td>\n",
              "      <td>0.198810</td>\n",
              "      <td>38.992171</td>\n",
              "      <td>0.169033</td>\n",
              "      <td>33.231058</td>\n",
              "      <td>0.140220</td>\n",
              "      <td>27.571972</td>\n",
              "      <td>167.154852</td>\n",
              "      <td>65.219783</td>\n",
              "      <td>0.535658</td>\n",
              "      <td>0.472016</td>\n",
              "      <td>0.398750</td>\n",
              "      <td>0.357143</td>\n",
              "      <td>0.506716</td>\n",
              "      <td>17.439813</td>\n",
              "      <td>63.383538</td>\n",
              "    </tr>\n",
              "    <tr>\n",
              "      <th>std</th>\n",
              "      <td>8.821613</td>\n",
              "      <td>14.094305</td>\n",
              "      <td>1.241041</td>\n",
              "      <td>0.417534</td>\n",
              "      <td>0.410299</td>\n",
              "      <td>0.944571</td>\n",
              "      <td>22.812804</td>\n",
              "      <td>3.201344</td>\n",
              "      <td>0.287622</td>\n",
              "      <td>0.248939</td>\n",
              "      <td>0.262830</td>\n",
              "      <td>0.309673</td>\n",
              "      <td>0.324960</td>\n",
              "      <td>0.436808</td>\n",
              "      <td>3.782002</td>\n",
              "      <td>6.808186</td>\n",
              "      <td>3.314986</td>\n",
              "      <td>5.968314</td>\n",
              "      <td>4.182063</td>\n",
              "      <td>3.335375</td>\n",
              "      <td>6.004032</td>\n",
              "      <td>3.824202</td>\n",
              "      <td>6.881707</td>\n",
              "      <td>4.257815</td>\n",
              "      <td>7.666581</td>\n",
              "      <td>3.961457</td>\n",
              "      <td>7.130474</td>\n",
              "      <td>3.238273</td>\n",
              "      <td>5.829603</td>\n",
              "      <td>4.419894</td>\n",
              "      <td>7.956098</td>\n",
              "      <td>2.733099</td>\n",
              "      <td>4.920204</td>\n",
              "      <td>15.760944</td>\n",
              "      <td>1.061069</td>\n",
              "      <td>0.405937</td>\n",
              "      <td>79.630166</td>\n",
              "      <td>0.247892</td>\n",
              "      <td>48.811165</td>\n",
              "      <td>0.316110</td>\n",
              "      <td>62.246802</td>\n",
              "      <td>0.155037</td>\n",
              "      <td>30.543856</td>\n",
              "      <td>9.445020</td>\n",
              "      <td>12.883791</td>\n",
              "      <td>0.498770</td>\n",
              "      <td>0.499235</td>\n",
              "      <td>0.489652</td>\n",
              "      <td>0.479179</td>\n",
              "      <td>0.499985</td>\n",
              "      <td>9.936357</td>\n",
              "      <td>17.925840</td>\n",
              "    </tr>\n",
              "    <tr>\n",
              "      <th>min</th>\n",
              "      <td>1979.000000</td>\n",
              "      <td>6.000000</td>\n",
              "      <td>-3.000000</td>\n",
              "      <td>0.000000</td>\n",
              "      <td>0.000000</td>\n",
              "      <td>-3.000000</td>\n",
              "      <td>5.000000</td>\n",
              "      <td>6.550000</td>\n",
              "      <td>0.000000</td>\n",
              "      <td>0.650000</td>\n",
              "      <td>0.000000</td>\n",
              "      <td>0.426621</td>\n",
              "      <td>0.000000</td>\n",
              "      <td>0.699659</td>\n",
              "      <td>0.600000</td>\n",
              "      <td>33.100000</td>\n",
              "      <td>6.300000</td>\n",
              "      <td>43.300000</td>\n",
              "      <td>6.000000</td>\n",
              "      <td>5.000000</td>\n",
              "      <td>41.000000</td>\n",
              "      <td>5.100000</td>\n",
              "      <td>41.200000</td>\n",
              "      <td>1.200000</td>\n",
              "      <td>34.100000</td>\n",
              "      <td>0.500000</td>\n",
              "      <td>32.800000</td>\n",
              "      <td>6.000000</td>\n",
              "      <td>42.800000</td>\n",
              "      <td>3.000000</td>\n",
              "      <td>37.500000</td>\n",
              "      <td>5.900000</td>\n",
              "      <td>42.600000</td>\n",
              "      <td>0.000000</td>\n",
              "      <td>-3.000000</td>\n",
              "      <td>0.000000</td>\n",
              "      <td>0.000000</td>\n",
              "      <td>0.000000</td>\n",
              "      <td>0.000000</td>\n",
              "      <td>0.000000</td>\n",
              "      <td>0.000000</td>\n",
              "      <td>0.000000</td>\n",
              "      <td>0.000000</td>\n",
              "      <td>99.100000</td>\n",
              "      <td>24.000000</td>\n",
              "      <td>0.000000</td>\n",
              "      <td>0.000000</td>\n",
              "      <td>0.000000</td>\n",
              "      <td>0.000000</td>\n",
              "      <td>0.000000</td>\n",
              "      <td>-18.400000</td>\n",
              "      <td>-1.100000</td>\n",
              "    </tr>\n",
              "    <tr>\n",
              "      <th>25%</th>\n",
              "      <td>1995.000000</td>\n",
              "      <td>21.000000</td>\n",
              "      <td>-0.500000</td>\n",
              "      <td>1.000000</td>\n",
              "      <td>1.000000</td>\n",
              "      <td>-0.400000</td>\n",
              "      <td>6.000000</td>\n",
              "      <td>23.710000</td>\n",
              "      <td>0.490000</td>\n",
              "      <td>1.060000</td>\n",
              "      <td>1.000000</td>\n",
              "      <td>1.058020</td>\n",
              "      <td>1.058020</td>\n",
              "      <td>1.058020</td>\n",
              "      <td>22.300000</td>\n",
              "      <td>72.200000</td>\n",
              "      <td>22.800000</td>\n",
              "      <td>73.000000</td>\n",
              "      <td>22.200000</td>\n",
              "      <td>21.900000</td>\n",
              "      <td>71.400000</td>\n",
              "      <td>22.400000</td>\n",
              "      <td>72.300000</td>\n",
              "      <td>22.400000</td>\n",
              "      <td>72.400000</td>\n",
              "      <td>22.600000</td>\n",
              "      <td>72.600000</td>\n",
              "      <td>22.700000</td>\n",
              "      <td>72.900000</td>\n",
              "      <td>22.300000</td>\n",
              "      <td>72.200000</td>\n",
              "      <td>21.700000</td>\n",
              "      <td>71.000000</td>\n",
              "      <td>35.300000</td>\n",
              "      <td>0.000000</td>\n",
              "      <td>0.040000</td>\n",
              "      <td>7.870000</td>\n",
              "      <td>0.070000</td>\n",
              "      <td>13.780000</td>\n",
              "      <td>0.050000</td>\n",
              "      <td>9.840000</td>\n",
              "      <td>0.050000</td>\n",
              "      <td>10.040000</td>\n",
              "      <td>160.000000</td>\n",
              "      <td>55.000000</td>\n",
              "      <td>0.000000</td>\n",
              "      <td>0.000000</td>\n",
              "      <td>0.000000</td>\n",
              "      <td>0.000000</td>\n",
              "      <td>0.000000</td>\n",
              "      <td>10.000000</td>\n",
              "      <td>50.000000</td>\n",
              "    </tr>\n",
              "    <tr>\n",
              "      <th>50%</th>\n",
              "      <td>1999.000000</td>\n",
              "      <td>29.000000</td>\n",
              "      <td>0.000000</td>\n",
              "      <td>1.000000</td>\n",
              "      <td>1.000000</td>\n",
              "      <td>0.100000</td>\n",
              "      <td>11.000000</td>\n",
              "      <td>25.530000</td>\n",
              "      <td>0.630000</td>\n",
              "      <td>1.200000</td>\n",
              "      <td>1.058020</td>\n",
              "      <td>1.116838</td>\n",
              "      <td>1.126280</td>\n",
              "      <td>1.200000</td>\n",
              "      <td>23.900000</td>\n",
              "      <td>75.000000</td>\n",
              "      <td>24.100000</td>\n",
              "      <td>75.300000</td>\n",
              "      <td>23.600000</td>\n",
              "      <td>23.000000</td>\n",
              "      <td>73.500000</td>\n",
              "      <td>23.900000</td>\n",
              "      <td>74.900000</td>\n",
              "      <td>24.000000</td>\n",
              "      <td>75.100000</td>\n",
              "      <td>24.000000</td>\n",
              "      <td>75.200000</td>\n",
              "      <td>24.100000</td>\n",
              "      <td>75.400000</td>\n",
              "      <td>23.700000</td>\n",
              "      <td>74.700000</td>\n",
              "      <td>22.800000</td>\n",
              "      <td>73.000000</td>\n",
              "      <td>47.200000</td>\n",
              "      <td>0.000000</td>\n",
              "      <td>0.090000</td>\n",
              "      <td>17.720000</td>\n",
              "      <td>0.120000</td>\n",
              "      <td>24.300000</td>\n",
              "      <td>0.100000</td>\n",
              "      <td>19.700000</td>\n",
              "      <td>0.100000</td>\n",
              "      <td>18.900000</td>\n",
              "      <td>167.000000</td>\n",
              "      <td>64.000000</td>\n",
              "      <td>1.000000</td>\n",
              "      <td>0.000000</td>\n",
              "      <td>0.000000</td>\n",
              "      <td>0.000000</td>\n",
              "      <td>1.000000</td>\n",
              "      <td>17.100000</td>\n",
              "      <td>62.700000</td>\n",
              "    </tr>\n",
              "    <tr>\n",
              "      <th>75%</th>\n",
              "      <td>2011.000000</td>\n",
              "      <td>43.000000</td>\n",
              "      <td>1.000000</td>\n",
              "      <td>1.000000</td>\n",
              "      <td>1.000000</td>\n",
              "      <td>0.660000</td>\n",
              "      <td>25.000000</td>\n",
              "      <td>27.630000</td>\n",
              "      <td>0.780000</td>\n",
              "      <td>1.200000</td>\n",
              "      <td>1.200000</td>\n",
              "      <td>1.348123</td>\n",
              "      <td>1.348123</td>\n",
              "      <td>1.500000</td>\n",
              "      <td>26.400000</td>\n",
              "      <td>79.600000</td>\n",
              "      <td>26.200000</td>\n",
              "      <td>79.200000</td>\n",
              "      <td>26.400000</td>\n",
              "      <td>24.500000</td>\n",
              "      <td>76.100000</td>\n",
              "      <td>26.600000</td>\n",
              "      <td>79.900000</td>\n",
              "      <td>27.000000</td>\n",
              "      <td>80.700000</td>\n",
              "      <td>26.900000</td>\n",
              "      <td>80.400000</td>\n",
              "      <td>26.500000</td>\n",
              "      <td>79.700000</td>\n",
              "      <td>27.100000</td>\n",
              "      <td>80.800000</td>\n",
              "      <td>23.800000</td>\n",
              "      <td>74.800000</td>\n",
              "      <td>59.400000</td>\n",
              "      <td>1.000000</td>\n",
              "      <td>0.190000</td>\n",
              "      <td>37.400000</td>\n",
              "      <td>0.250000</td>\n",
              "      <td>49.210000</td>\n",
              "      <td>0.190000</td>\n",
              "      <td>36.610000</td>\n",
              "      <td>0.160000</td>\n",
              "      <td>31.500000</td>\n",
              "      <td>173.000000</td>\n",
              "      <td>73.000000</td>\n",
              "      <td>1.000000</td>\n",
              "      <td>1.000000</td>\n",
              "      <td>1.000000</td>\n",
              "      <td>1.000000</td>\n",
              "      <td>1.000000</td>\n",
              "      <td>25.000000</td>\n",
              "      <td>77.000000</td>\n",
              "    </tr>\n",
              "    <tr>\n",
              "      <th>max</th>\n",
              "      <td>2016.000000</td>\n",
              "      <td>99.000000</td>\n",
              "      <td>3.000000</td>\n",
              "      <td>1.000000</td>\n",
              "      <td>1.000000</td>\n",
              "      <td>3.000000</td>\n",
              "      <td>99.120000</td>\n",
              "      <td>61.530000</td>\n",
              "      <td>2.890000</td>\n",
              "      <td>6.830000</td>\n",
              "      <td>3.800000</td>\n",
              "      <td>6.800000</td>\n",
              "      <td>3.800000</td>\n",
              "      <td>6.800000</td>\n",
              "      <td>63.200000</td>\n",
              "      <td>145.800000</td>\n",
              "      <td>41.700000</td>\n",
              "      <td>107.100000</td>\n",
              "      <td>42.700000</td>\n",
              "      <td>36.200000</td>\n",
              "      <td>97.200000</td>\n",
              "      <td>44.700000</td>\n",
              "      <td>112.400000</td>\n",
              "      <td>148.100000</td>\n",
              "      <td>298.600000</td>\n",
              "      <td>100.000000</td>\n",
              "      <td>212.000000</td>\n",
              "      <td>43.600000</td>\n",
              "      <td>110.500000</td>\n",
              "      <td>46.500000</td>\n",
              "      <td>115.700000</td>\n",
              "      <td>36.300000</td>\n",
              "      <td>97.300000</td>\n",
              "      <td>100.000000</td>\n",
              "      <td>3.000000</td>\n",
              "      <td>56.170000</td>\n",
              "      <td>11056.410000</td>\n",
              "      <td>6.540000</td>\n",
              "      <td>1287.400000</td>\n",
              "      <td>29.810000</td>\n",
              "      <td>5867.200000</td>\n",
              "      <td>2.800000</td>\n",
              "      <td>551.600000</td>\n",
              "      <td>210.000000</td>\n",
              "      <td>150.000000</td>\n",
              "      <td>1.000000</td>\n",
              "      <td>1.000000</td>\n",
              "      <td>1.000000</td>\n",
              "      <td>1.000000</td>\n",
              "      <td>1.000000</td>\n",
              "      <td>45.100000</td>\n",
              "      <td>113.100000</td>\n",
              "    </tr>\n",
              "  </tbody>\n",
              "</table>\n",
              "</div>"
            ],
            "text/plain": [
              "                Year  ...  Outdoor monthly air temperature (F)\n",
              "count  107335.000000  ...                         79336.000000\n",
              "mean     2002.010695  ...                            63.383538\n",
              "std         8.821613  ...                            17.925840\n",
              "min      1979.000000  ...                            -1.100000\n",
              "25%      1995.000000  ...                            50.000000\n",
              "50%      1999.000000  ...                            62.700000\n",
              "75%      2011.000000  ...                            77.000000\n",
              "max      2016.000000  ...                           113.100000\n",
              "\n",
              "[8 rows x 52 columns]"
            ]
          },
          "metadata": {
            "tags": []
          },
          "execution_count": 4
        }
      ]
    },
    {
      "cell_type": "code",
      "metadata": {
        "id": "ZyzaZ1ul28vO",
        "colab_type": "code",
        "colab": {}
      },
      "source": [
        "data.drop(columns=['Publication (Citation)'],inplace=True)\n"
      ],
      "execution_count": 5,
      "outputs": []
    },
    {
      "cell_type": "code",
      "metadata": {
        "id": "G1TVIzfCzla_",
        "colab_type": "code",
        "colab": {
          "base_uri": "https://localhost:8080/",
          "height": 34
        },
        "outputId": "eeffe58a-01f5-444d-b39a-775901825c8c"
      },
      "source": [
        "data['Database'].unique()"
      ],
      "execution_count": 6,
      "outputs": [
        {
          "output_type": "execute_result",
          "data": {
            "text/plain": [
              "array(['Database 2', 'Database 1'], dtype=object)"
            ]
          },
          "metadata": {
            "tags": []
          },
          "execution_count": 6
        }
      ]
    },
    {
      "cell_type": "code",
      "metadata": {
        "id": "6u6Rhpce3nXv",
        "colab_type": "code",
        "colab": {}
      },
      "source": [
        "data['Year'].fillna(2002,inplace=True)\n",
        "# data['Year'].isnull().sum()\n"
      ],
      "execution_count": 7,
      "outputs": []
    },
    {
      "cell_type": "code",
      "metadata": {
        "id": "iyUBZ3pq-5yM",
        "colab_type": "code",
        "colab": {}
      },
      "source": [
        "t = np.mean(data['Age'])\n",
        "data['Age'].fillna(t,inplace=True)\n",
        "# data['Age'].isnull().sum()\n"
      ],
      "execution_count": 8,
      "outputs": []
    },
    {
      "cell_type": "code",
      "metadata": {
        "id": "LSM2DBm5DZKx",
        "colab_type": "code",
        "colab": {}
      },
      "source": [
        "data.replace(['Summer', 'Autumn', 'Winter', 'Spring', 'nan'], [1, 2, 3,4,5], inplace=True)\n",
        "\n",
        "data['Season'].fillna(2,inplace=True)\n",
        "# data['Season'].isnull().sum().\n"
      ],
      "execution_count": 9,
      "outputs": []
    },
    {
      "cell_type": "code",
      "metadata": {
        "id": "S2UE9EMRGlHk",
        "colab_type": "code",
        "colab": {}
      },
      "source": [
        "data['Thermal sensation'].isnull().sum()\n",
        "data['Thermal sensation'].unique()\n",
        "a = data['Thermal sensation'].mean()\n",
        "data['Thermal sensation'].fillna(a,inplace=True)"
      ],
      "execution_count": 10,
      "outputs": []
    },
    {
      "cell_type": "code",
      "metadata": {
        "id": "aeoANbgkJmHg",
        "colab_type": "code",
        "colab": {}
      },
      "source": [
        "data['Thermal sensation acceptability'].isnull().sum()\n",
        "data['Thermal sensation acceptability'].fillna(1,inplace=True)\n"
      ],
      "execution_count": 11,
      "outputs": []
    },
    {
      "cell_type": "code",
      "metadata": {
        "id": "0Z-l_TFrKe3q",
        "colab_type": "code",
        "colab": {}
      },
      "source": [
        "data['Air movement acceptability'].unique()\n",
        "data['Air movement acceptability'].isnull().sum()\n",
        "data['Air movement acceptability'].fillna(1,inplace=True)\n"
      ],
      "execution_count": 12,
      "outputs": []
    },
    {
      "cell_type": "markdown",
      "metadata": {
        "id": "6gVtQ2tvOpbv",
        "colab_type": "text"
      },
      "source": [
        "# Koppen climate classification\n",
        "\n",
        "The system divides the world into five climate zones based on criteria, usually temperature, which allows for different vegetation growth. Köppen’s map used different colors and shades to represent the different climate zones of the world. While most of the zones are organized based on the temperature of a region, Zone B focuses on the aridity of a region. The zones are as follows:\n",
        "\n",
        "Zone A: tropical or equatorial zone (represented by blue colors on most maps)\n",
        "\n",
        "Zone B: arid or dry zone (represented by red, pink, and orange colors on most maps)\n",
        "\n",
        "Zone C: warm/mild temperate zone (represented by green colors on most maps)\n",
        "\n",
        "Zone D: continental zone (represented by purple, violet, and light blue colors on most maps)\n",
        "\n",
        "Zone E: polar zone (represented by gray colors on most maps)\n",
        "\n",
        "Each zone is further subdivided based on temperature or dryness. For example, Zone A has three subdivisions: Zone Af has no dry season, Zone Am has a short dry season, and Zone Aw has a winter dry season. Zone B is divided into categories related to regions such as hot, arid deserts (Zone BWh); cold, arid deserts (Zone BWk); hot, arid steppes (Zone BSh); and cold, arid steppes (Zone BSk). Climate zones C and D are broken into categories based on when the dry seasons occur in the zones, as well as the coldness of the summer or the warmth of the winter. Zone E climates are separated into tundra regions (Zone ET) or snow and ice regions (Zone EF). Additionally, some modern revisions to the system include a sixth region, known as Zone H. This represents a highland climate located at mountainous elevations.\n",
        "\n",
        "Köppen’s classification maps are still used by scientists and climatologists to this day. Although he published his first map in the early 1900s, Köppen continued to update it until his death in 1940. Subsequent climatologists, including Rudolf Geiger, updated versions of this map, which often include Geiger’s name as well. At the time of writing, a recent revision to this map was published in 2018.\n"
      ]
    },
    {
      "cell_type": "code",
      "metadata": {
        "id": "BbnEZ7rANRHo",
        "colab_type": "code",
        "colab": {}
      },
      "source": [
        "data['Koppen climate classification'].unique()\n",
        "climate = {'Cfa':1, 'Csb':2, 'Aw':3, 'BSh':4, 'Csa':5, 'Csc':6, 'Dwa':7, 'Af':8, 'Cfb':9, 'BWh':10,\n",
        "       'BSk':11, 'Am':12, 'As':13, 'Cwa':14, 'Cwb':15, 'Dfb':16}\n",
        "data['Koppen climate classification'] = data['Koppen climate classification'].map(climate)\n"
      ],
      "execution_count": 13,
      "outputs": []
    },
    {
      "cell_type": "markdown",
      "metadata": {
        "id": "KZDkA0_61fcm",
        "colab_type": "text"
      },
      "source": [
        "![alt text](https://cdn.britannica.com/s:700x500/67/188767-050-DD04AF29/types-patterns-precipitation-vegetation-temperature-map-classification-1900.jpg)"
      ]
    },
    {
      "cell_type": "code",
      "metadata": {
        "id": "7Ocr1ZBdOPM6",
        "colab_type": "code",
        "colab": {
          "base_uri": "https://localhost:8080/",
          "height": 153
        },
        "outputId": "05e04268-26d7-4d1f-adc4-4b1766b4a4ce"
      },
      "source": [
        "col_conversion = LabelEncoder()\n",
        "# data['Climate'].unique()\n",
        "data['Climate'] = col_conversion.fit_transform(data['Climate'])\n",
        "category = col_conversion.classes_\n",
        "print(\"Category of Columns : \",category)\n",
        "\n",
        "# data['Climate'].shape"
      ],
      "execution_count": 14,
      "outputs": [
        {
          "output_type": "stream",
          "text": [
            "Category of Columns :  ['Cold semi-arid' 'Cool-summer Mediterranean' 'Cool-summer mediterranean'\n",
            " 'Hot desert' 'Hot semi-arid' 'Hot-summer Mediterranean'\n",
            " 'Hot-summer mediterranean' 'Humid subtropical'\n",
            " 'Monsoon-influenced hot-summer humid continental'\n",
            " 'Monsoon-influenced humid subtropical' 'Oceanic' 'Subtropical highland'\n",
            " 'Temperate oceanic' 'Tropical dry savanna' 'Tropical monsoon'\n",
            " 'Tropical rainforest' 'Tropical wet savanna' 'Warm-summer Mediterranean'\n",
            " 'Warm-summer humid continental']\n"
          ],
          "name": "stdout"
        }
      ]
    },
    {
      "cell_type": "markdown",
      "metadata": {
        "id": "8Z75ksnt2NSi",
        "colab_type": "text"
      },
      "source": [
        "![f](https://user-images.githubusercontent.com/52448964/89881603-577b9f00-dbe3-11ea-9810-f91747b766b7.png)\n"
      ]
    },
    {
      "cell_type": "code",
      "metadata": {
        "id": "yVw1Ka18Q5kD",
        "colab_type": "code",
        "colab": {
          "base_uri": "https://localhost:8080/",
          "height": 102
        },
        "outputId": "c3d32e37-51d2-4349-f4b3-829de137bd08"
      },
      "source": [
        "data['Country'].unique()"
      ],
      "execution_count": 15,
      "outputs": [
        {
          "output_type": "execute_result",
          "data": {
            "text/plain": [
              "array(['Japan', 'USA', 'India', 'Iran', 'China', 'Philippines',\n",
              "       'Australia', 'Malaysia', 'Slovakia', 'Denmark', 'Tunisia', 'UK',\n",
              "       'France', 'Sweden', 'Portugal', 'Greece', 'Brazil', 'South Korea',\n",
              "       'Italy', 'Belgium', 'Mexico', 'Germany', 'Nigeria', 'Singapore',\n",
              "       'Thailand', 'Indonesia', 'Canada', 'Pakistan'], dtype=object)"
            ]
          },
          "metadata": {
            "tags": []
          },
          "execution_count": 15
        }
      ]
    },
    {
      "cell_type": "code",
      "metadata": {
        "id": "h7DOMiyVSAXl",
        "colab_type": "code",
        "colab": {}
      },
      "source": [
        "g = LabelEncoder()\n",
        "data['Country'] = g.fit_transform(data['Country'])\n"
      ],
      "execution_count": 16,
      "outputs": []
    },
    {
      "cell_type": "code",
      "metadata": {
        "id": "nO2qsATy6K7n",
        "colab_type": "code",
        "colab": {
          "base_uri": "https://localhost:8080/",
          "height": 34
        },
        "outputId": "b6f4916e-f675-47cd-bbee-f7711ce4d39e"
      },
      "source": [
        "# data['Cooling startegy_building level'] = g.fit_transform(data['Cooling startegy_building level'])\n",
        "data['Cooling startegy_building level'].unique()\n",
        "data['Cooling startegy_building level'].fillna(1,inplace = True)\n",
        "data['Cooling startegy_building level'].isnull().sum()"
      ],
      "execution_count": 17,
      "outputs": [
        {
          "output_type": "execute_result",
          "data": {
            "text/plain": [
              "0"
            ]
          },
          "metadata": {
            "tags": []
          },
          "execution_count": 17
        }
      ]
    },
    {
      "cell_type": "code",
      "metadata": {
        "id": "if3iqbXz8VYR",
        "colab_type": "code",
        "colab": {}
      },
      "source": [
        "data['Cooling startegy_building level'].unique()\n",
        "data.replace([1,'Air Conditioned', 'Naturally Ventilated', 'Mixed Mode', \n",
        "       'Mechanically Ventilated'], [1, 2, 3,4,5], inplace=True)\n"
      ],
      "execution_count": 18,
      "outputs": []
    },
    {
      "cell_type": "code",
      "metadata": {
        "id": "N1BdsCwM7J3g",
        "colab_type": "code",
        "colab": {}
      },
      "source": [
        "data['City'].fillna(0,inplace = True)\n",
        "data['City'].unique()\n",
        "data.replace(['Tokyo', 'Texas', 'Berkeley', 'Chennai', 'Hyderabad', 'Ilam',\n",
        "       'San Francisco', 'Alameda', 'Philadelphia', 'Guangzhou',\n",
        "       'Changsha', 'Yueyang', 'Harbin', 'Beijing', 'Chaozhou', 'Nanyang',\n",
        "       'Makati', 'Sydney', 'Jaipur', 'Kota Kinabalu', 'Kuala Lumpur', 0,\n",
        "       'Beverly Hills', 'Putra Jaya', 'Kinarut', 'Kuching', 'Bedong',\n",
        "       'Bratislava', 'Elsinore', 'Gabes', 'Gafsa', 'El Kef', 'Sfax',\n",
        "       'Tunis', 'Midland', 'London', 'Lyon', 'Gothenburg', 'Malmo',\n",
        "       'Porto', 'Halmstad', 'Athens', 'Lisbon', 'Florianopolis',\n",
        "       'BrasÌ_lia', 'Recife', 'Maceio', 'Seoul', 'Tsukuba', 'Lodi',\n",
        "       'Varese', 'Imola', 'Shanghai', 'Liege', 'Mexicali', 'Hermosillo',\n",
        "       'Colima', 'Culiacan ', 'MÌ©rida', 'Tezpur', 'Imphal', 'Shilong',\n",
        "       'Ahmedabad', 'Bangalore', 'Delhi', 'Shimla', 'Bandar Abbas',\n",
        "       'Karlsruhe', 'Bauchi', 'Stuttgart', 'Hampshire', 'Wollongong',\n",
        "       'Goulburn', 'Singapore', 'Cardiff', 'Bangkok', 'Jakarta',\n",
        "       'Montreal', 'Brisbane', 'Darwin', 'Melbourne', 'Ottawa', 'Karachi',\n",
        "       'Multan', 'Peshawar', 'Quetta', 'Saidu Sharif', 'Oxford',\n",
        "       'San Ramon', 'Palo Alto', 'Walnut Creek', 'Townsville',\n",
        "       'Liverpool', 'St Helens', 'Chester', 'Grand Rapids', 'Auburn',\n",
        "       'Kalgoorlie', 'Honolulu'], [1, 2, 3, 4, 5, 6,7,8,9,10,11,12,13,14,15,16,17,18,19,20,21,22,23,24,25,26,27,28,29,30,31,32,33,34,35,36,37,38,39,40,41,42,43,44,45,46,47,\n",
        "                                   48,49,50,51,52,53,54,55,56,57,58,59,60,61,62,63,64,65,66,67,68,69,70,71,72,73,74,75,76,77,78,79,80,81,82,83,84,85,86,\n",
        "                                   87,88,89,90,91,92,93,94,95,96,97,98,99], inplace=True)\n"
      ],
      "execution_count": 19,
      "outputs": []
    },
    {
      "cell_type": "code",
      "metadata": {
        "id": "8fXNHP-sjQrT",
        "colab_type": "code",
        "colab": {}
      },
      "source": [
        "data['Building type'].unique()\n",
        "data['Building type'].fillna(6, inplace= True) \n",
        "data.replace(['Classroom', 'Office', 'Others', 'Multifamily housing',\n",
        "       'Senior center',6], [1, 2, 3,4,5,6], inplace=True)\n",
        "\n"
      ],
      "execution_count": 20,
      "outputs": []
    },
    {
      "cell_type": "code",
      "metadata": {
        "id": "Ia2InZHblbF7",
        "colab_type": "code",
        "colab": {}
      },
      "source": [
        "data['Cooling startegy_operation mode for MM buildings'].unique()\n",
        "data['Cooling startegy_operation mode for MM buildings'].fillna(1,inplace = True)\n",
        "data.replace([1,2,3,'Unknown'],[1,2,3,4],inplace=True)"
      ],
      "execution_count": 21,
      "outputs": []
    },
    {
      "cell_type": "code",
      "metadata": {
        "id": "tvisjc68oO8q",
        "colab_type": "code",
        "colab": {}
      },
      "source": [
        "# data.drop(columns=['Heating strategy_building level'],axis=1)\n",
        "data['Heating strategy_building level'].unique()\n",
        "data['Heating strategy_building level'].fillna(0,inplace=True)\n",
        "data.replace([0,'Mechanical Heating'],[0,1],inplace=True)\n"
      ],
      "execution_count": 22,
      "outputs": []
    },
    {
      "cell_type": "code",
      "metadata": {
        "id": "pcq0vlVBpp2F",
        "colab_type": "code",
        "colab": {}
      },
      "source": [
        "data['Sex'].unique()\n",
        "data['Sex'].isnull().sum()\n",
        "data['Sex'].fillna(0,inplace=True)\n",
        "data.replace([0,'Female','Male'],[0,0,1],inplace=True)\n",
        "\n"
      ],
      "execution_count": 23,
      "outputs": []
    },
    {
      "cell_type": "code",
      "metadata": {
        "id": "gFMOCxpPsn8e",
        "colab_type": "code",
        "colab": {}
      },
      "source": [
        "data['Thermal preference'].unique()\n",
        "data['Thermal preference'].isnull().sum()\n",
        "data['Thermal preference'].fillna(0,inplace=True)\n",
        "data.replace(['warmer', 'no change', 'cooler', 0],[1,2,3,0],inplace=True)\n"
      ],
      "execution_count": 24,
      "outputs": []
    },
    {
      "cell_type": "code",
      "metadata": {
        "id": "ofosENTOvFCx",
        "colab_type": "code",
        "colab": {
          "base_uri": "https://localhost:8080/",
          "height": 34
        },
        "outputId": "176660dc-72d7-4638-fa3b-8720267c3ee6"
      },
      "source": [
        "data['Air movement preference'].unique()\n",
        "data['Air movement preference'].fillna(0,inplace=True)\n",
        "data.replace([2, 'more', 'less', 'nan'],[2,4,3,1],inplace=True)\n",
        "data['Air movement preference'].shape\n",
        "data['Air movement preference'].isnull().sum()\n"
      ],
      "execution_count": 25,
      "outputs": [
        {
          "output_type": "execute_result",
          "data": {
            "text/plain": [
              "0"
            ]
          },
          "metadata": {
            "tags": []
          },
          "execution_count": 25
        }
      ]
    },
    {
      "cell_type": "code",
      "metadata": {
        "id": "x1ck7S_1wQml",
        "colab_type": "code",
        "colab": {}
      },
      "source": [
        "data['Thermal comfort'].unique()\n",
        "data['Thermal comfort'].isnull().sum()\n",
        "data['Thermal comfort'].fillna(0,inplace=True)\n",
        "data.replace([5.0, 6, 4.0, 1, 3, 2, 4.5, 5.2, 2.5, 2.7, 2.2, 2.3, 2.8, 4.3, 2.4,\n",
        "       4.2, 3.5, 0, 1.8, 'Na', '2.6', '5.1', '1.7', '3.4', '0.9', '4.3',\n",
        "       '6', '5', '4', '2', '3', '1', 1.3, 1.5, ' '],[5.0, 6, 4.0, 1, 3, 2, 4.5, 5.2, 2.5, 2.7, 2.2, 2.3, 2.8, 4.3, 2.4,\n",
        "       4.2, 3.5, 0, 1.8, 0, '2.6', '5.1', '1.7', '3.4', '0.9', '4.3',\n",
        "       '6', '5', '4', '2', '3', '1', 1.3, 1.5, 0],inplace=True)\n",
        "\n"
      ],
      "execution_count": 26,
      "outputs": []
    },
    {
      "cell_type": "code",
      "metadata": {
        "id": "84ipog65xTtg",
        "colab_type": "code",
        "colab": {}
      },
      "source": [
        "data['PMV'].isnull().sum()\n",
        "data['PMV'].mean()\n",
        "data['PMV'].fillna(1.0862311565319103,inplace=True)\n"
      ],
      "execution_count": 27,
      "outputs": []
    },
    {
      "cell_type": "code",
      "metadata": {
        "id": "6a9NP4yN1Wnk",
        "colab_type": "code",
        "colab": {}
      },
      "source": [
        "data['PPD'].isnull().sum()\n",
        "data['PPD'].mean()\n",
        "data['PPD'].fillna(20.962094284773425,inplace=True)\n",
        "\n"
      ],
      "execution_count": 28,
      "outputs": []
    },
    {
      "cell_type": "code",
      "metadata": {
        "id": "YSy2mz-a19Ak",
        "colab_type": "code",
        "colab": {}
      },
      "source": [
        "data['SET'].isnull().sum()\n",
        "data['SET'].mean()\n",
        "data['SET'].fillna(25.769629,inplace=True)\n",
        "\n"
      ],
      "execution_count": 29,
      "outputs": []
    },
    {
      "cell_type": "code",
      "metadata": {
        "id": "fByq959m2mXQ",
        "colab_type": "code",
        "colab": {}
      },
      "source": [
        "data['Clo'].isnull().sum()\n",
        "data['Clo'].mean()\n",
        "data['Clo'].fillna(0.675876,inplace=True)\n"
      ],
      "execution_count": 30,
      "outputs": []
    },
    {
      "cell_type": "code",
      "metadata": {
        "id": "FnHOJ7hN2_p_",
        "colab_type": "code",
        "colab": {}
      },
      "source": [
        "data['Met'].isnull().sum()\n",
        "data['Met'].mean()\n",
        "data['Met'].fillna(1.206626,inplace=True)\n",
        "\n"
      ],
      "execution_count": 31,
      "outputs": []
    },
    {
      "cell_type": "code",
      "metadata": {
        "id": "L9I2Dod63i8n",
        "colab_type": "code",
        "colab": {}
      },
      "source": [
        "data.drop(columns=['Subject«s height (cm)','Subject«s weight (kg)','Blind (curtain)','Fan','Window','Door','Heater'],axis=1,inplace=True)\n",
        "data.drop(['Database'],axis=1,inplace=True)\n"
      ],
      "execution_count": 32,
      "outputs": []
    },
    {
      "cell_type": "code",
      "metadata": {
        "id": "HMNPeCBj4qoN",
        "colab_type": "code",
        "colab": {}
      },
      "source": [
        "data['activity_10'].isnull().sum()\n",
        "data['activity_10'].mean()\n",
        "data['activity_10'].fillna(1.194218,inplace=True)\n",
        "\n",
        "data['activity_20'].isnull().sum()\n",
        "data['activity_20'].mean()\n",
        "data['activity_20'].fillna(1.257274,inplace=True)\n",
        "\n",
        "data['activity_30'].isnull().sum()\n",
        "data['activity_30'].mean()\n",
        "data['activity_30'].fillna(1.264003,inplace=True)\n",
        "\n",
        "data['activity_60'].isnull().sum()\n",
        "data['activity_60'].mean()\n",
        "data['activity_60'].fillna(1.319214,inplace=True)\n",
        "\n"
      ],
      "execution_count": 33,
      "outputs": []
    },
    {
      "cell_type": "code",
      "metadata": {
        "id": "qQxPML-p6aA4",
        "colab_type": "code",
        "colab": {}
      },
      "source": [
        "data['Air temperature (C)'].isnull().sum()\n",
        "data['Air temperature (C)'].mean()\n",
        "data['Air temperature (C)'].fillna(24.496358,inplace=True)\n",
        "\n",
        "data['Air temperature (F)'].isnull().sum()\n",
        "data['Air temperature (F)'].mean()\n",
        "data['Air temperature (F)'].fillna(76.090540\t,inplace=True)\n",
        "\n",
        "data['Ta_h (C)'].isnull().sum()\n",
        "data['Ta_h (C)'].mean()\n",
        "data['Ta_h (C)'].fillna(24.569258,inplace=True)\n",
        "\n",
        "data['Ta_h (F)'].isnull().sum()\n",
        "data['Ta_h (F)'].mean()\n",
        "data['Ta_h (F)'].fillna(76.223719\t,inplace=True)\n",
        "\n",
        "data['Ta_m (C)'].isnull().sum()\n",
        "data['Ta_m (C)'].mean()\n",
        "data['Ta_m (C)'].fillna(24.220964,inplace=True)\n",
        "\n",
        "data['Ta_l (C)'].isnull().sum()\n",
        "data['Ta_l (C)'].mean()\n",
        "data['Ta_l (C)'].fillna(23.450124,inplace=True)\n",
        "\n",
        "data['Ta_l (F)'].isnull().sum()\n",
        "data['Ta_l (F)'].mean()\n",
        "data['Ta_l (F)'].fillna(74.207647,inplace=True)\n",
        "\n",
        "data['Operative temperature (C)'].isnull().sum()\n",
        "data['Operative temperature (C)'].mean()\n",
        "data['Operative temperature (C)'].fillna(24.504233,inplace=True)\n",
        "\n",
        "data['Operative temperature (F)'].isnull().sum()\n",
        "data['Operative temperature (F)'].mean()\n",
        "data['Operative temperature (F)'].fillna(76.105627,inplace=True)\n",
        "\n",
        "data['Radiant temperature (C)'].isnull().sum()\n",
        "data['Radiant temperature (C)'].mean()\n",
        "data['Radiant temperature (C)'].fillna(24.602735,inplace=True)\n",
        "\n",
        "data['Radiant temperature (F)'].isnull().sum()\n",
        "data['Radiant temperature (F)'].mean()\n",
        "data['Radiant temperature (F)'].fillna(76.283592\t,inplace=True)\n",
        "\n",
        "data['Globe temperature (C)'].isnull().sum()\n",
        "data['Globe temperature (C)'].mean()\n",
        "data['Globe temperature (C)'].fillna(24.621170,inplace=True)\n",
        "\n",
        "data['Globe temperature (F)'].isnull().sum()\n",
        "data['Globe temperature (F)'].mean()\n",
        "data['Globe temperature (F)'].fillna(76.316978\t,inplace=True)\n",
        "\n"
      ],
      "execution_count": 34,
      "outputs": []
    },
    {
      "cell_type": "code",
      "metadata": {
        "id": "FtJCzk30A556",
        "colab_type": "code",
        "colab": {}
      },
      "source": [
        "data.drop(columns=[\"Velocity_h (m/s)\", \"Velocity_h (fpm)\",\t\"Velocity_m (m/s)\",\t\"Velocity_m (fpm)\",\t\"Velocity_l (m/s)\",\t\"Velocity_l (fpm)\"], axis=1, inplace=True)"
      ],
      "execution_count": 35,
      "outputs": []
    },
    {
      "cell_type": "code",
      "metadata": {
        "id": "mttP4EzS7hyb",
        "colab_type": "code",
        "colab": {}
      },
      "source": [
        "data['Tg_h (C)'].isnull().sum()\n",
        "data['Tg_h (C)'].mean()\n",
        "data['Tg_h (C)'].fillna(24.796730,inplace=True)\n",
        "\n",
        "data['Tg_h (F)'].isnull().sum()\n",
        "data['Tg_h (F)'].mean()\n",
        "data['Tg_h (F)'].fillna(76.631297,inplace=True)\n",
        "\n",
        "data['Tg_m (C)'].isnull().sum()\n",
        "data['Tg_m (C)'].mean()\n",
        "data['Tg_m (C)'].fillna(24.375786,inplace=True)\n",
        "\n",
        "data['Tg_m (F)'].isnull().sum()\n",
        "data['Tg_m (F)'].mean()\n",
        "data['Tg_m (F)'].fillna(75.874689,inplace=True)\n",
        "\n",
        "data['Tg_l (C)'].isnull().sum()\n",
        "data['Tg_l (C)'].mean()\n",
        "data['Tg_l (C)'].fillna(22.970135,inplace=True)\n",
        "\n",
        "data['Tg_l (F)'].isnull().sum()\n",
        "data['Tg_l (F)'].mean()\n",
        "data['Tg_l (F)'].fillna(73.341419,inplace=True)\n"
      ],
      "execution_count": 36,
      "outputs": []
    },
    {
      "cell_type": "code",
      "metadata": {
        "id": "-mfi3lmn8bNP",
        "colab_type": "code",
        "colab": {}
      },
      "source": [
        "data['Relative humidity (%)'].isnull().sum()\n",
        "data['Relative humidity (%)'].mean()\n",
        "data['Relative humidity (%)'].fillna(47.548293,inplace=True)\n",
        "\n",
        "data['Humidity sensation'].isnull().sum()\n",
        "data['Humidity sensation'].mean()\n",
        "data['Humidity sensation'].fillna(11.470175,inplace=True)\n",
        "\n",
        "data['Air velocity (m/s)'].isnull().sum()\n",
        "data['Air velocity (m/s)'].mean()\n",
        "data['Air velocity (m/s)'].fillna(0.847680,inplace=True)\n",
        "\n",
        "data['Air velocity (fpm)'].isnull().sum()\n",
        "data['Air velocity (fpm)'].mean()\n",
        "data['Air velocity (fpm)'].fillna(34.932351,inplace=True)\n",
        "\n",
        "data['Outdoor monthly air temperature (C)'].isnull().sum()\n",
        "data['Outdoor monthly air temperature (C)'].mean()\n",
        "data['Outdoor monthly air temperature (C)'].fillna(17.446746,inplace=True)\n",
        "\n",
        "data['Outdoor monthly air temperature (F)'].isnull().sum()\n",
        "data['Outdoor monthly air temperature (F)'].mean()\n",
        "data['Outdoor monthly air temperature (F)'].fillna(63.383538,inplace=True)\n"
      ],
      "execution_count": 37,
      "outputs": []
    },
    {
      "cell_type": "code",
      "metadata": {
        "id": "CTLUNjxmE0d0",
        "colab_type": "code",
        "colab": {}
      },
      "source": [
        "data['Humidity preference'].unique()\n",
        "data['Humidity preference'].fillna(0,inplace=True)\n",
        "data.replace([0, 'drier', 2, 'more humid'],[0,1,2,3],inplace=True)\n"
      ],
      "execution_count": 38,
      "outputs": []
    },
    {
      "cell_type": "markdown",
      "metadata": {
        "id": "I51LlU1H1O9l",
        "colab_type": "text"
      },
      "source": [
        "![alt text](https://cdn.britannica.com/01/53801-050-F463F06F/values-humidity.jpg)"
      ]
    },
    {
      "cell_type": "code",
      "metadata": {
        "id": "CSKJhQEWFERc",
        "colab_type": "code",
        "colab": {
          "base_uri": "https://localhost:8080/",
          "height": 1000
        },
        "outputId": "75dc4cc9-f4f3-42cf-c81d-3dd9754f8ddc"
      },
      "source": [
        "data.info()"
      ],
      "execution_count": 39,
      "outputs": [
        {
          "output_type": "stream",
          "text": [
            "<class 'pandas.core.frame.DataFrame'>\n",
            "Index: 107583 entries, Kwok Alison to Alison Kwok\n",
            "Data columns (total 54 columns):\n",
            " #   Column                                            Non-Null Count   Dtype  \n",
            "---  ------                                            --------------   -----  \n",
            " 0   Year                                              107583 non-null  float64\n",
            " 1   Season                                            107583 non-null  float64\n",
            " 2   Koppen climate classification                     107583 non-null  float64\n",
            " 3   Climate                                           107583 non-null  float64\n",
            " 4   City                                              107583 non-null  float64\n",
            " 5   Country                                           107583 non-null  float64\n",
            " 6   Building type                                     107583 non-null  float64\n",
            " 7   Cooling startegy_building level                   107583 non-null  float64\n",
            " 8   Cooling startegy_operation mode for MM buildings  107583 non-null  float64\n",
            " 9   Heating strategy_building level                   107583 non-null  float64\n",
            " 10  Age                                               107583 non-null  float64\n",
            " 11  Sex                                               107583 non-null  float64\n",
            " 12  Thermal sensation                                 107583 non-null  float64\n",
            " 13  Thermal sensation acceptability                   107583 non-null  float64\n",
            " 14  Thermal preference                                107583 non-null  float64\n",
            " 15  Air movement acceptability                        107583 non-null  float64\n",
            " 16  Air movement preference                           107583 non-null  float64\n",
            " 17  Thermal comfort                                   107583 non-null  object \n",
            " 18  PMV                                               107583 non-null  float64\n",
            " 19  PPD                                               107583 non-null  float64\n",
            " 20  SET                                               107583 non-null  float64\n",
            " 21  Clo                                               107583 non-null  float64\n",
            " 22  Met                                               107583 non-null  float64\n",
            " 23  activity_10                                       107583 non-null  float64\n",
            " 24  activity_20                                       107583 non-null  float64\n",
            " 25  activity_30                                       107583 non-null  float64\n",
            " 26  activity_60                                       107583 non-null  float64\n",
            " 27  Air temperature (C)                               107583 non-null  float64\n",
            " 28  Air temperature (F)                               107583 non-null  float64\n",
            " 29  Ta_h (C)                                          107583 non-null  float64\n",
            " 30  Ta_h (F)                                          107583 non-null  float64\n",
            " 31  Ta_m (C)                                          107583 non-null  float64\n",
            " 32  Ta_m (F)                                          31165 non-null   object \n",
            " 33  Ta_l (C)                                          107583 non-null  float64\n",
            " 34  Ta_l (F)                                          107583 non-null  float64\n",
            " 35  Operative temperature (C)                         107583 non-null  float64\n",
            " 36  Operative temperature (F)                         107583 non-null  float64\n",
            " 37  Radiant temperature (C)                           107583 non-null  float64\n",
            " 38  Radiant temperature (F)                           107583 non-null  float64\n",
            " 39  Globe temperature (C)                             107583 non-null  float64\n",
            " 40  Globe temperature (F)                             107583 non-null  float64\n",
            " 41  Tg_h (C)                                          107583 non-null  float64\n",
            " 42  Tg_h (F)                                          107583 non-null  float64\n",
            " 43  Tg_m (C)                                          107583 non-null  float64\n",
            " 44  Tg_m (F)                                          107583 non-null  float64\n",
            " 45  Tg_l (C)                                          107583 non-null  float64\n",
            " 46  Tg_l (F)                                          107583 non-null  float64\n",
            " 47  Relative humidity (%)                             107583 non-null  float64\n",
            " 48  Humidity preference                               107583 non-null  int64  \n",
            " 49  Humidity sensation                                107583 non-null  float64\n",
            " 50  Air velocity (m/s)                                107583 non-null  float64\n",
            " 51  Air velocity (fpm)                                107583 non-null  float64\n",
            " 52  Outdoor monthly air temperature (C)               107583 non-null  float64\n",
            " 53  Outdoor monthly air temperature (F)               107583 non-null  float64\n",
            "dtypes: float64(51), int64(1), object(2)\n",
            "memory usage: 45.1+ MB\n"
          ],
          "name": "stdout"
        }
      ]
    },
    {
      "cell_type": "markdown",
      "metadata": {
        "id": "8kayFHpovtbl",
        "colab_type": "text"
      },
      "source": [
        "# 5). Data Visualization "
      ]
    },
    {
      "cell_type": "code",
      "metadata": {
        "id": "W6a7_XmmRyU1",
        "colab_type": "code",
        "colab": {
          "base_uri": "https://localhost:8080/",
          "height": 598
        },
        "outputId": "14bfb977-227b-47a1-dac2-2ac380066e3d"
      },
      "source": [
        "visuals = pd.read_csv('/content/drive/My Drive/Dataset/thermal data.csv')\n",
        "\n",
        "visuals['City'].fillna('Indore',inplace=True)\n",
        "\n",
        "# Set the dimension of the figure\n",
        "my_dpi=96\n",
        "plt.figure(figsize=(2600/my_dpi, 1800/my_dpi), dpi=my_dpi)\n",
        " \n",
        "\n",
        "# Make the background map\n",
        "m=Basemap(llcrnrlon=-180, llcrnrlat=-65,urcrnrlon=180,urcrnrlat=80)\n",
        "m.drawmapboundary(fill_color='black', linewidth=0)\n",
        "m.fillcontinents(color='grey', alpha=0.3)\n",
        "m.drawcoastlines(linewidth=0.1, color=\"red\")\n",
        " \n",
        "# Add a point per position\n",
        "m.scatter(visuals['Country'], visuals['City'], alpha=0.4, cmap=\"twilight_shifted_r\")\n",
        " \n",
        "# copyright and source data info\n",
        "plt.text( -170, -58,'Created By : Rudresh Joshi', ha='left', va='bottom', size=12, color='red' )\n",
        " \n",
        "# Save as png\n",
        "# plt.savefig('#315_Tweet_Surf_Bubble_map1.png', bbox_inches='tight')\n",
        "\n"
      ],
      "execution_count": 40,
      "outputs": [
        {
          "output_type": "stream",
          "text": [
            "/usr/local/lib/python3.6/dist-packages/IPython/core/interactiveshell.py:2718: DtypeWarning: Columns (10,11,13,18,19,34,50) have mixed types.Specify dtype option on import or set low_memory=False.\n",
            "  interactivity=interactivity, compiler=compiler, result=result)\n"
          ],
          "name": "stderr"
        },
        {
          "output_type": "execute_result",
          "data": {
            "text/plain": [
              "Text(-170, -58, 'Created By : Rudresh Joshi')"
            ]
          },
          "metadata": {
            "tags": []
          },
          "execution_count": 40
        },
        {
          "output_type": "display_data",
          "data": {
            "image/png": "[encoded data removed]",
            "text/plain": [
              "<Figure size 2600x1800 with 1 Axes>"
            ]
          },
          "metadata": {
            "tags": []
          }
        }
      ]
    },
    {
      "cell_type": "markdown",
      "metadata": {
        "id": "sUQv5si1v4C-",
        "colab_type": "text"
      },
      "source": [
        "# 6). Seperating Data into Input and Output"
      ]
    },
    {
      "cell_type": "code",
      "metadata": {
        "id": "91nVUgoDI9ci",
        "colab_type": "code",
        "colab": {}
      },
      "source": [
        "X = data.drop(columns=['Ta_m (F)','Thermal comfort','Thermal sensation acceptability'])\n",
        "y = data[['Thermal sensation acceptability']].values"
      ],
      "execution_count": 41,
      "outputs": []
    },
    {
      "cell_type": "markdown",
      "metadata": {
        "id": "7gVSeclPwTs0",
        "colab_type": "text"
      },
      "source": [
        "# 7). Spliting Dataset into Training and Testing data"
      ]
    },
    {
      "cell_type": "code",
      "metadata": {
        "id": "WLQjNIEUJ_VW",
        "colab_type": "code",
        "colab": {}
      },
      "source": [
        "X_train,X_test,y_train,y_test = train_test_split(X,y,test_size = 0.2,random_state = 12)"
      ],
      "execution_count": 42,
      "outputs": []
    },
    {
      "cell_type": "markdown",
      "metadata": {
        "id": "mqZgoJk9wkmK",
        "colab_type": "text"
      },
      "source": [
        "# 8). Importing Advance Library Keras for the computational purpose"
      ]
    },
    {
      "cell_type": "code",
      "metadata": {
        "id": "Lqbdpex8K2IP",
        "colab_type": "code",
        "colab": {}
      },
      "source": [
        "from keras.models import Sequential\n",
        "from keras.layers import *"
      ],
      "execution_count": 43,
      "outputs": []
    },
    {
      "cell_type": "markdown",
      "metadata": {
        "id": "kwH0vbFyxMaE",
        "colab_type": "text"
      },
      "source": [
        "# Model Defining"
      ]
    },
    {
      "cell_type": "code",
      "metadata": {
        "id": "NKanQMrSLILS",
        "colab_type": "code",
        "colab": {
          "base_uri": "https://localhost:8080/",
          "height": 289
        },
        "outputId": "65c573ad-0227-4ce2-9ee8-f2bca820e94b"
      },
      "source": [
        "model = Sequential()\n",
        "model.add(Dense(100,input_dim=51,activation=\"relu\"))\n",
        "model.add(Dense(200,activation=\"relu\"))\n",
        "model.add(Dense(100,activation=\"relu\"))\n",
        "model.add(Dense(1,activation=\"softmax\"))\n",
        "model.summary()"
      ],
      "execution_count": 44,
      "outputs": [
        {
          "output_type": "stream",
          "text": [
            "Model: \"sequential\"\n",
            "_________________________________________________________________\n",
            "Layer (type)                 Output Shape              Param #   \n",
            "=================================================================\n",
            "dense (Dense)                (None, 100)               5200      \n",
            "_________________________________________________________________\n",
            "dense_1 (Dense)              (None, 200)               20200     \n",
            "_________________________________________________________________\n",
            "dense_2 (Dense)              (None, 100)               20100     \n",
            "_________________________________________________________________\n",
            "dense_3 (Dense)              (None, 1)                 101       \n",
            "=================================================================\n",
            "Total params: 45,601\n",
            "Trainable params: 45,601\n",
            "Non-trainable params: 0\n",
            "_________________________________________________________________\n"
          ],
          "name": "stdout"
        }
      ]
    },
    {
      "cell_type": "code",
      "metadata": {
        "id": "WhD0E-IGMmEI",
        "colab_type": "code",
        "colab": {}
      },
      "source": [
        "model.compile(loss=\"categorical_crossentropy\",optimizer=\"adam\", metrics=['accuracy'])"
      ],
      "execution_count": 45,
      "outputs": []
    },
    {
      "cell_type": "markdown",
      "metadata": {
        "id": "D3tUj9lkxtyc",
        "colab_type": "text"
      },
      "source": [
        "# 9). Now Fitting the Data into our model"
      ]
    },
    {
      "cell_type": "code",
      "metadata": {
        "id": "nZRs8TD6M0x9",
        "colab_type": "code",
        "colab": {
          "base_uri": "https://localhost:8080/",
          "height": 187
        },
        "outputId": "ccef0c22-3554-43cb-9c9c-bc44f177f3e2"
      },
      "source": [
        "history = model.fit(\n",
        "    X_train,\n",
        "    y_train,\n",
        "    epochs=5,\n",
        "    shuffle=True,\n",
        "    verbose=2,\n",
        "    batch_size = 5\n",
        "\n",
        ")"
      ],
      "execution_count": 46,
      "outputs": [
        {
          "output_type": "stream",
          "text": [
            "Epoch 1/5\n",
            "17214/17214 - 21s - loss: 0.0000e+00 - accuracy: 0.8692\n",
            "Epoch 2/5\n",
            "17214/17214 - 21s - loss: 0.0000e+00 - accuracy: 0.8692\n",
            "Epoch 3/5\n",
            "17214/17214 - 22s - loss: 0.0000e+00 - accuracy: 0.8692\n",
            "Epoch 4/5\n",
            "17214/17214 - 21s - loss: 0.0000e+00 - accuracy: 0.8692\n",
            "Epoch 5/5\n",
            "17214/17214 - 21s - loss: 0.0000e+00 - accuracy: 0.8692\n"
          ],
          "name": "stdout"
        }
      ]
    },
    {
      "cell_type": "markdown",
      "metadata": {
        "id": "60MEChSVx2tr",
        "colab_type": "text"
      },
      "source": [
        "# 10). Now Making Prediction using our model"
      ]
    },
    {
      "cell_type": "code",
      "metadata": {
        "id": "cbKlEik6OwKI",
        "colab_type": "code",
        "colab": {
          "base_uri": "https://localhost:8080/",
          "height": 231
        },
        "outputId": "f0fdba54-5111-4955-d895-b1d0e3f931ec"
      },
      "source": [
        "Prediction = model.predict(X_test)\n",
        "Prediction = pd.DataFrame(Prediction)\n",
        "final = std(Prediction)\n",
        "# if Prediction=1:\n",
        "#   print(\"Thermal Sensation is Accepted\")\n",
        "# else:\n",
        "#   print(\"Thermal\")\n",
        "\n",
        "final"
      ],
      "execution_count": 59,
      "outputs": [
        {
          "output_type": "error",
          "ename": "NameError",
          "evalue": "ignored",
          "traceback": [
            "\u001b[0;31m---------------------------------------------------------------------------\u001b[0m",
            "\u001b[0;31mNameError\u001b[0m                                 Traceback (most recent call last)",
            "\u001b[0;32m<ipython-input-59-9283fe4b0089>\u001b[0m in \u001b[0;36m<module>\u001b[0;34m()\u001b[0m\n\u001b[1;32m      1\u001b[0m \u001b[0mPrediction\u001b[0m \u001b[0;34m=\u001b[0m \u001b[0mmodel\u001b[0m\u001b[0;34m.\u001b[0m\u001b[0mpredict\u001b[0m\u001b[0;34m(\u001b[0m\u001b[0mX_test\u001b[0m\u001b[0;34m)\u001b[0m\u001b[0;34m\u001b[0m\u001b[0;34m\u001b[0m\u001b[0m\n\u001b[1;32m      2\u001b[0m \u001b[0mPrediction\u001b[0m \u001b[0;34m=\u001b[0m \u001b[0mpd\u001b[0m\u001b[0;34m.\u001b[0m\u001b[0mDataFrame\u001b[0m\u001b[0;34m(\u001b[0m\u001b[0mPrediction\u001b[0m\u001b[0;34m)\u001b[0m\u001b[0;34m\u001b[0m\u001b[0;34m\u001b[0m\u001b[0m\n\u001b[0;32m----> 3\u001b[0;31m \u001b[0mfinal\u001b[0m \u001b[0;34m=\u001b[0m \u001b[0mstd\u001b[0m\u001b[0;34m(\u001b[0m\u001b[0mPrediction\u001b[0m\u001b[0;34m)\u001b[0m\u001b[0;34m\u001b[0m\u001b[0;34m\u001b[0m\u001b[0m\n\u001b[0m\u001b[1;32m      4\u001b[0m \u001b[0;31m# if Prediction=1:\u001b[0m\u001b[0;34m\u001b[0m\u001b[0;34m\u001b[0m\u001b[0;34m\u001b[0m\u001b[0m\n\u001b[1;32m      5\u001b[0m \u001b[0;31m#   print(\"Thermal Sensation is Accepted\")\u001b[0m\u001b[0;34m\u001b[0m\u001b[0;34m\u001b[0m\u001b[0;34m\u001b[0m\u001b[0m\n",
            "\u001b[0;31mNameError\u001b[0m: name 'std' is not defined"
          ]
        }
      ]
    },
    {
      "cell_type": "markdown",
      "metadata": {
        "id": "dL6zKzivyCbZ",
        "colab_type": "text"
      },
      "source": [
        "# 11). Checking the Accuracy and Precision of the model"
      ]
    },
    {
      "cell_type": "code",
      "metadata": {
        "id": "pRbavPW-QAgZ",
        "colab_type": "code",
        "colab": {
          "base_uri": "https://localhost:8080/",
          "height": 68
        },
        "outputId": "db63cd60-d0b8-4ccf-d163-3609740b1c4e"
      },
      "source": [
        "print(\"Accuracy:\",metrics.accuracy_score(y_test, Prediction))\n",
        "print(\"Precision:\",metrics.precision_score(y_test, Prediction))\n",
        "print(\"Recall:\",metrics.recall_score(y_test, Prediction))"
      ],
      "execution_count": 48,
      "outputs": [
        {
          "output_type": "stream",
          "text": [
            "Accuracy: 0.8702886090068318\n",
            "Precision: 0.8702886090068318\n",
            "Recall: 1.0\n"
          ],
          "name": "stdout"
        }
      ]
    },
    {
      "cell_type": "markdown",
      "metadata": {
        "id": "dgqbmHqayUFO",
        "colab_type": "text"
      },
      "source": [
        "# Confusion Matrix for more Understanding"
      ]
    },
    {
      "cell_type": "code",
      "metadata": {
        "id": "Qvu104N4PHCG",
        "colab_type": "code",
        "colab": {
          "base_uri": "https://localhost:8080/",
          "height": 51
        },
        "outputId": "80eca163-fcbc-4e30-e1ec-fc061eb2ce08"
      },
      "source": [
        "cnf_matrix = metrics.confusion_matrix(y_test, Prediction)\n",
        "cnf_matrix"
      ],
      "execution_count": 49,
      "outputs": [
        {
          "output_type": "execute_result",
          "data": {
            "text/plain": [
              "array([[18726,     0],\n",
              "       [ 2791,     0]])"
            ]
          },
          "metadata": {
            "tags": []
          },
          "execution_count": 49
        }
      ]
    },
    {
      "cell_type": "code",
      "metadata": {
        "id": "pD8cvBnkPzmM",
        "colab_type": "code",
        "colab": {
          "base_uri": "https://localhost:8080/",
          "height": 342
        },
        "outputId": "ebd4927c-3e5e-46a0-c30e-5534add08b7a"
      },
      "source": [
        "fig, ax = plt.subplots()\n",
        "# tick_marks = np.arange(len(class_names))\n",
        "# plt.xticks(tick_marks, class_names)\n",
        "# plt.yticks(tick_marks, class_names)\n",
        "sns.heatmap(pd.DataFrame(cnf_matrix), annot=True, cmap=\"viridis\" ,fmt='g')\n",
        "ax.xaxis.set_label_position(\"top\")\n",
        "plt.tight_layout()\n",
        "plt.title('Confusion matrix', y=1.1)\n",
        "plt.ylabel('Actual label')\n",
        "plt.xlabel('Predicted label')"
      ],
      "execution_count": 50,
      "outputs": [
        {
          "output_type": "execute_result",
          "data": {
            "text/plain": [
              "Text(0.5, 257.44, 'Predicted label')"
            ]
          },
          "metadata": {
            "tags": []
          },
          "execution_count": 50
        },
        {
          "output_type": "display_data",
          "data": {
            "image/png": "[encoded data removed]",
            "text/plain": [
              "<Figure size 432x288 with 2 Axes>"
            ]
          },
          "metadata": {
            "tags": [],
            "needs_background": "light"
          }
        }
      ]
    },
    {
      "cell_type": "code",
      "metadata": {
        "id": "X-1n1QjJQq6P",
        "colab_type": "code",
        "colab": {}
      },
      "source": [
        ""
      ],
      "execution_count": 50,
      "outputs": []
    }
  ]
}